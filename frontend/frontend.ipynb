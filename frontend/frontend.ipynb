{
 "cells": [
  {
   "cell_type": "code",
   "execution_count": null,
   "id": "09f321df",
   "metadata": {},
   "outputs": [],
   "source": [
    "import streamlit as st\n",
    "import requests\n",
    "\n",
    "st.title(\"Market Dashboard MVP\")\n",
    "\n",
    "symbol = st.text_input(\"Ticker (e.g. AAPL, BTC):\", \"AAPL\")\n",
    "if st.button(\"Check Price\"):\n",
    "    resp = requests.get(\"http://127.0.0.1:8000/health\")\n",
    "    st.json(resp.json())\n"
   ]
  },
  {
   "cell_type": "code",
   "execution_count": null,
   "id": "a4cf39fa",
   "metadata": {},
   "outputs": [],
   "source": [
    "#test frontend as well - naviagte to the directory and run the bash below\n",
    "\n",
    "#streamlit run app.py"
   ]
  },
  {
   "cell_type": "code",
   "execution_count": 4,
   "id": "a9dd6d5c",
   "metadata": {},
   "outputs": [
    {
     "name": "stdout",
     "output_type": "stream",
     "text": [
      "pyodbc is ready!\n"
     ]
    }
   ],
   "source": [
    "import pyodbc\n",
    "print(\"pyodbc is ready!\")\n",
    "\n"
   ]
  }
 ],
 "metadata": {
  "kernelspec": {
   "display_name": ".venv",
   "language": "python",
   "name": "python3"
  },
  "language_info": {
   "codemirror_mode": {
    "name": "ipython",
    "version": 3
   },
   "file_extension": ".py",
   "mimetype": "text/x-python",
   "name": "python",
   "nbconvert_exporter": "python",
   "pygments_lexer": "ipython3",
   "version": "3.11.0"
  }
 },
 "nbformat": 4,
 "nbformat_minor": 5
}
