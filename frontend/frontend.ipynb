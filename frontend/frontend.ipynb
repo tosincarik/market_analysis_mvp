{
 "cells": [
  {
   "cell_type": "code",
   "execution_count": null,
   "id": "09f321df",
   "metadata": {},
   "outputs": [],
   "source": [
    "import streamlit as st\n",
    "import requests\n",
    "\n",
    "st.title(\"Market Dashboard MVP\")\n",
    "\n",
    "symbol = st.text_input(\"Ticker (e.g. AAPL, BTC):\", \"AAPL\")\n",
    "if st.button(\"Check Price\"):\n",
    "    resp = requests.get(\"http://127.0.0.1:8000/health\")\n",
    "    st.json(resp.json())\n"
   ]
  }
 ],
 "metadata": {
  "language_info": {
   "name": "python"
  }
 },
 "nbformat": 4,
 "nbformat_minor": 5
}
