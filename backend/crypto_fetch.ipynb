{
 "cells": [
  {
   "cell_type": "code",
   "execution_count": 1,
   "id": "7da636a9",
   "metadata": {},
   "outputs": [],
   "source": [
    "# =====================================\n",
    "# Imports and Environment Setup\n",
    "# =====================================\n",
    "from pycoingecko import CoinGeckoAPI\n",
    "import pandas as pd\n",
    "from sqlalchemy import create_engine\n",
    "from dotenv import load_dotenv\n",
    "import os\n",
    "from datetime import datetime\n",
    "import urllib"
   ]
  },
  {
   "cell_type": "code",
   "execution_count": 2,
   "id": "c7c4b532",
   "metadata": {},
   "outputs": [],
   "source": [
    "# Load environment variables\n",
    "load_dotenv(override=True)\n",
    "DB_URL = os.getenv(\"DB_URL\")  # optional if you want to use it\n",
    "\n",
    "# =====================================\n",
    "# SQL Server Connection\n",
    "# =====================================\n",
    "params = urllib.parse.quote_plus(\n",
    "    \"Driver={ODBC Driver 18 for SQL Server};\"\n",
    "    \"Server=OLUWATOSIN,1433;\"          # Named instance on fixed port\n",
    "    \"Database=MarketMVP;\"\n",
    "    \"Trusted_Connection=yes;\"\n",
    "    \"TrustServerCertificate=yes;\"\n",
    ")\n",
    "\n",
    "engine = create_engine(f\"mssql+pyodbc:///?odbc_connect={params}\")\n"
   ]
  },
  {
   "cell_type": "code",
   "execution_count": 3,
   "id": "8ddc3916",
   "metadata": {},
   "outputs": [
    {
     "name": "stdout",
     "output_type": "stream",
     "text": [
      "✅ SQLAlchemy connected!\n"
     ]
    }
   ],
   "source": [
    "# Test connection\n",
    "with engine.connect() as conn:\n",
    "    print(\"✅ SQLAlchemy connected!\")"
   ]
  },
  {
   "cell_type": "code",
   "execution_count": 7,
   "id": "7c1586c8",
   "metadata": {},
   "outputs": [],
   "source": [
    "# =====================================\n",
    "# Fetch Crypto Data\n",
    "# =====================================\n",
    "cg = CoinGeckoAPI()\n",
    "\n",
    "def fetch_crypto_data(symbol: str, days: int = 5):\n",
    "    \"\"\"\n",
    "    Fetch crypto data from CoinGecko and aggregate to daily OHLCV.\n",
    "    \"\"\"\n",
    "    data = cg.get_coin_market_chart_by_id(id=symbol, vs_currency='usd', days=days)\n",
    "\n",
    "    # Create DataFrame with timestamps\n",
    "    df = pd.DataFrame({\n",
    "        'timestamp': [datetime.utcfromtimestamp(item[0] // 1000) for item in data['prices']],\n",
    "        'price': [item[1] for item in data['prices']],\n",
    "        'market_cap': [item[1] for item in data['market_caps']],\n",
    "        'volume': [item[1] for item in data['total_volumes']],\n",
    "        'symbol': symbol\n",
    "    })\n",
    "\n",
    "    # Convert timestamp to date\n",
    "    df['date'] = df['timestamp'].dt.date\n",
    "\n",
    "    # Aggregate to daily OHLCV\n",
    "    df_daily = df.groupby('date').agg(\n",
    "        open_price=('price', 'first'),\n",
    "        high=('price', 'max'),\n",
    "        low=('price', 'min'),\n",
    "        close_price=('price', 'last'),\n",
    "        volume=('volume', 'sum'),\n",
    "        market_cap=('market_cap', 'last'),\n",
    "        symbol=('symbol', 'first')\n",
    "    ).reset_index()\n",
    "\n",
    "    return df_daily"
   ]
  },
  {
   "cell_type": "code",
   "execution_count": 12,
   "id": "c565736a",
   "metadata": {},
   "outputs": [],
   "source": [
    "# =====================================\n",
    "# Save to SQL Server (your existing function)\n",
    "# =====================================\n",
    "def save_to_db(df: pd.DataFrame, table_name: str, engine=engine):\n",
    "    \"\"\"\n",
    "    Save a DataFrame to SQL Server with proper column name handling.\n",
    "    \"\"\"\n",
    "    # Flatten MultiIndex or tuple columns if any\n",
    "    if isinstance(df.columns, pd.MultiIndex):\n",
    "        df.columns = ['_'.join(filter(None, map(str, col))) for col in df.columns]\n",
    "    else:\n",
    "        df.columns = [col[0] if isinstance(col, tuple) else col for col in df.columns]\n",
    "\n",
    "    # Ensure SQL-safe column names\n",
    "    df.columns = [col.lower().replace(\" \", \"_\").replace(\"-\", \"_\") for col in df.columns]\n",
    "\n",
    "    # Insert into SQL Server\n",
    "    df.to_sql(table_name, engine, if_exists='append', index=False)\n",
    "    print(f\"✅ Data saved to table '{table_name}' successfully!\")"
   ]
  },
  {
   "cell_type": "code",
   "execution_count": 15,
   "id": "baad0194",
   "metadata": {},
   "outputs": [
    {
     "name": "stdout",
     "output_type": "stream",
     "text": [
      "✅ Data saved to table 'crypto_data' successfully!\n"
     ]
    }
   ],
   "source": [
    "# Test run\n",
    "# =======================\n",
    "if __name__ == \"__main__\":\n",
    "    df = fetch_crypto_data(\"bitcoin\", days=5)\n",
    "    save_to_db(df, \"crypto_data\")"
   ]
  },
  {
   "cell_type": "code",
   "execution_count": 16,
   "id": "27ba53c5",
   "metadata": {},
   "outputs": [
    {
     "name": "stdout",
     "output_type": "stream",
     "text": [
      "Stocks sample:\n",
      "    id ticker        date  open_price    high     low  close_price    volume\n",
      "0   1   AAPL  2025-09-02      229.25  230.85  226.97       229.72  44075600\n",
      "1   2   AAPL  2025-09-03      237.21  238.85  234.36       238.47  66427800\n",
      "2   3   AAPL  2025-09-04      238.45  239.90  236.74       239.78  47549400\n",
      "3   4   AAPL  2025-09-05      240.00  241.32  238.49       239.69  54870400\n",
      "4   5   AAPL  2025-09-08      239.30  240.15  236.34       237.88  48999500\n",
      "Cryptos sample:\n",
      "          date     open_price           high            low    close_price  \\\n",
      "0  2025-09-11  114136.796349  115251.545046  114136.796349  115251.545046   \n",
      "1  2025-09-12  115503.166632  116704.714866  114944.793340  116094.986343   \n",
      "2  2025-09-13  116160.143446  116299.905741  115342.814107  115914.676974   \n",
      "3  2025-09-14  115974.887394  116143.869783  115264.810470  116031.270652   \n",
      "4  2025-09-15  115278.552516  116552.241074  114696.006061  115299.780302   \n",
      "\n",
      "         volume    market_cap   symbol  \n",
      "0  3.517606e+11  2.295846e+12  bitcoin  \n",
      "1  1.165944e+12  2.311335e+12  bitcoin  \n",
      "2  1.009069e+12  2.309142e+12  bitcoin  \n",
      "3  6.353015e+11  2.311158e+12  bitcoin  \n",
      "4  9.126879e+11  2.296904e+12  bitcoin  \n"
     ]
    }
   ],
   "source": [
    "import pandas as pd\n",
    "from sqlalchemy import create_engine\n",
    "from dotenv import load_dotenv\n",
    "import os\n",
    "\n",
    "load_dotenv()\n",
    "engine = create_engine(os.getenv(\"DB_URL\"))\n",
    "\n",
    "stocks = pd.read_sql(\"SELECT * FROM stock_data\", engine)\n",
    "cryptos = pd.read_sql(\"SELECT * FROM crypto_data\", engine)\n",
    "\n",
    "print(\"Stocks sample:\\n\", stocks.head())\n",
    "print(\"Cryptos sample:\\n\", cryptos.head())\n",
    "\n",
    "# Optional: check duplicates\n",
    "assert not stocks.duplicated().any(), \"Duplicate stock rows!\"\n",
    "assert not cryptos.duplicated().any(), \"Duplicate crypto rows!\"\n"
   ]
  }
 ],
 "metadata": {
  "kernelspec": {
   "display_name": ".venv",
   "language": "python",
   "name": "python3"
  },
  "language_info": {
   "codemirror_mode": {
    "name": "ipython",
    "version": 3
   },
   "file_extension": ".py",
   "mimetype": "text/x-python",
   "name": "python",
   "nbconvert_exporter": "python",
   "pygments_lexer": "ipython3",
   "version": "3.11.0"
  }
 },
 "nbformat": 4,
 "nbformat_minor": 5
}
