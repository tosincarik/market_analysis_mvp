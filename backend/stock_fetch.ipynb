{
 "cells": [
  {
   "cell_type": "code",
   "execution_count": 23,
   "id": "7493adff",
   "metadata": {},
   "outputs": [],
   "source": [
    "# =====================================\n",
    "# Imports and Environment Setup\n",
    "# =====================================\n",
    "import yfinance as yf\n",
    "import pandas as pd\n",
    "from sqlalchemy import create_engine\n",
    "from dotenv import load_dotenv\n",
    "import os\n",
    "import urllib\n",
    "\n"
   ]
  },
  {
   "cell_type": "code",
   "execution_count": 25,
   "id": "bc5ba139",
   "metadata": {},
   "outputs": [
    {
     "data": {
      "text/plain": [
       "True"
      ]
     },
     "execution_count": 25,
     "metadata": {},
     "output_type": "execute_result"
    }
   ],
   "source": [
    "# Load environment variables\n",
    "\n",
    "DB_URL = os.getenv(\"DB_URL\")  # optional if you want to use it\n",
    "load_dotenv(override=True)"
   ]
  },
  {
   "cell_type": "code",
   "execution_count": 26,
   "id": "c1f05bc6",
   "metadata": {},
   "outputs": [
    {
     "name": "stdout",
     "output_type": "stream",
     "text": [
      "✅ SQLAlchemy connected!\n"
     ]
    }
   ],
   "source": [
    "# SQL Server Connection\n",
    "# =====================================\n",
    "params = urllib.parse.quote_plus(\n",
    "    \"Driver={ODBC Driver 18 for SQL Server};\"\n",
    "    \"Server=OLUWATOSIN,1433;\"          # Named instance on fixed port\n",
    "    \"Database=MarketMVP;\"\n",
    "    \"Trusted_Connection=yes;\"\n",
    "    \"TrustServerCertificate=yes;\"      # critical for avoiding SSL issues\n",
    ")\n",
    "\n",
    "engine = create_engine(f\"mssql+pyodbc:///?odbc_connect={params}\")\n",
    "\n",
    "# Test connection\n",
    "with engine.connect() as conn:\n",
    "    print(\"✅ SQLAlchemy connected!\")\n",
    "\n",
    "# =====================================\n"
   ]
  },
  {
   "cell_type": "code",
   "execution_count": 27,
   "id": "28e81ce1",
   "metadata": {},
   "outputs": [],
   "source": [
    "# Function to save DataFrame to SQL Server\n",
    "# =====================================\n",
    "def save_to_db(df: pd.DataFrame, table_name: str, engine=engine):\n",
    "    \"\"\"\n",
    "    Save a DataFrame to SQL Server with proper column name handling.\n",
    "\n",
    "    - Flattens MultiIndex or tuple column names.\n",
    "    - Ensures SQL Server-compatible column names.\n",
    "    \"\"\"\n",
    "    # Flatten MultiIndex or tuple column names\n",
    "    if isinstance(df.columns, pd.MultiIndex):\n",
    "        df.columns = ['_'.join(filter(None, map(str, col))) for col in df.columns]\n",
    "    else:\n",
    "        df.columns = [col[0] if isinstance(col, tuple) else col for col in df.columns]\n",
    "\n",
    "    # Replace spaces and special characters\n",
    "    df.columns = [col.replace(\" \", \"_\").replace(\"-\", \"_\") for col in df.columns]\n",
    "\n",
    "    # Optional: lower-case columns (SQL Server is case-insensitive but consistent naming helps)\n",
    "    df.columns = [col.lower() for col in df.columns]\n",
    "\n",
    "    # Insert into SQL Server\n",
    "    df.to_sql(table_name, engine, if_exists='append', index=False)\n",
    "    print(f\"✅ Data saved to table '{table_name}' successfully!\")\n",
    "\n"
   ]
  },
  {
   "cell_type": "code",
   "execution_count": 28,
   "id": "58c8ff1d",
   "metadata": {},
   "outputs": [
    {
     "name": "stderr",
     "output_type": "stream",
     "text": [
      "C:\\Users\\Admin\\AppData\\Local\\Temp\\ipykernel_1968\\3360879948.py:7: FutureWarning: YF.download() has changed argument auto_adjust default to True\n",
      "  df = yf.download(ticker, start=\"2025-09-01\", end=\"2025-09-17\")\n",
      "[*********************100%***********************]  1 of 1 completed"
     ]
    },
    {
     "name": "stdout",
     "output_type": "stream",
     "text": [
      "✅ Data saved to table 'stock_data' successfully!\n"
     ]
    },
    {
     "name": "stderr",
     "output_type": "stream",
     "text": [
      "\n"
     ]
    }
   ],
   "source": [
    "# =====================================\n",
    "# Example usage\n",
    "# =====================================\n",
    "if __name__ == \"__main__\":\n",
    "    # Fetch stock data\n",
    "    ticker = \"AAPL\"\n",
    "    df = yf.download(ticker, start=\"2025-09-01\", end=\"2025-09-17\")\n",
    "    df.reset_index(inplace=True)\n",
    "    df['ticker'] = ticker  # add ticker column\n",
    "\n",
    "    # Reorder columns to match SQL table\n",
    "    df = df[['ticker', 'Date', 'Open', 'High', 'Low', 'Close', 'Volume']]\n",
    "    df.columns = ['ticker', 'date', 'open_price', 'high', 'low', 'close_price', 'volume']\n",
    "\n",
    "    # Save to SQL\n",
    "    save_to_db(df, \"stock_data\")"
   ]
  }
 ],
 "metadata": {
  "kernelspec": {
   "display_name": ".venv",
   "language": "python",
   "name": "python3"
  },
  "language_info": {
   "codemirror_mode": {
    "name": "ipython",
    "version": 3
   },
   "file_extension": ".py",
   "mimetype": "text/x-python",
   "name": "python",
   "nbconvert_exporter": "python",
   "pygments_lexer": "ipython3",
   "version": "3.11.0"
  }
 },
 "nbformat": 4,
 "nbformat_minor": 5
}
