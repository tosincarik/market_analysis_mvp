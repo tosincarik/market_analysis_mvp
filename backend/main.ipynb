{
 "cells": [
  {
   "cell_type": "code",
   "execution_count": 1,
   "id": "fdd0541c",
   "metadata": {},
   "outputs": [],
   "source": [
    "from fastapi import FastAPI\n",
    "\n",
    "app = FastAPI(title=\"Market Dashboard MVP\")\n",
    "\n",
    "@app.get(\"/health\")\n",
    "def health():\n",
    "    return {\"status\": \"ok\"}\n"
   ]
  },
  {
   "cell_type": "code",
   "execution_count": 3,
   "id": "90e46b5f",
   "metadata": {},
   "outputs": [],
   "source": [
    "#to test the set up - cd to backend and run the bash below in trminal\n",
    "#uvicorn main:app --reload --port 8000\n",
    "\n",
    "#Test it in the browser:\n",
    "#Go to: http://127.0.0.1:8000/health\n",
    "\n",
    "#It should return: {\"status\":\"ok\"}\n",
    "\n"
   ]
  }
 ],
 "metadata": {
  "kernelspec": {
   "display_name": ".venv",
   "language": "python",
   "name": "python3"
  },
  "language_info": {
   "codemirror_mode": {
    "name": "ipython",
    "version": 3
   },
   "file_extension": ".py",
   "mimetype": "text/x-python",
   "name": "python",
   "nbconvert_exporter": "python",
   "pygments_lexer": "ipython3",
   "version": "3.11.0"
  }
 },
 "nbformat": 4,
 "nbformat_minor": 5
}
